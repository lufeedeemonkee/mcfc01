{
 "cells": [
  {
   "cell_type": "code",
   "execution_count": 1,
   "metadata": {},
   "outputs": [],
   "source": [
    "import math, random, uuid\n",
    "from math import log as ln\n",
    "import pandas as pd"
   ]
  },
  {
   "cell_type": "markdown",
   "metadata": {},
   "source": [
    "#### Project outcomes we wish to model (dependent variables)"
   ]
  },
  {
   "cell_type": "code",
   "execution_count": 2,
   "metadata": {},
   "outputs": [],
   "source": [
    "outcomes_schema = {\n",
    "    'project_id': 'unique_id',\n",
    "    'cost_overrun_absolute':  'continuous',\n",
    "    'time_overrun_absolute': 'continuous',\n",
    "    'benefit_deficits': 'continuous'\n",
    "}"
   ]
  },
  {
   "cell_type": "markdown",
   "metadata": {},
   "source": [
    "#### Project characteristics that may influence outcomes (independent variables)"
   ]
  },
  {
   "cell_type": "code",
   "execution_count": 3,
   "metadata": {},
   "outputs": [],
   "source": [
    "characteristics_schema = {\n",
    "    'original_budget': {'kind': 'continuous zero to infinity', 'weight': 1.0},\n",
    "    'original_time': {'kind': 'continuous zero to infinity', 'weight': 1.0},\n",
    "    'country': {'kind': 'discrete', 'weight': 1.0},\n",
    "    '#risks_in_register': {'kind': 'continuous zero to infinity', 'weight': 1.0},\n",
    "    'total_risks_amounts': {'kind': 'continuous zero to infinity', 'weight': 1.0},\n",
    "    '#opportunities_in_register': {'kind': 'continuous zero to infinity', 'weight': 1.0},\n",
    "    'total_opportunities_amounts': {'kind': 'continuous zero to infinity', 'weight': 1.0},\n",
    "    'main_contractor': {'kind': 'discrete', 'weight': 1.0},\n",
    "    'customer': {'kind': 'discrete', 'weight': 1.0},\n",
    "    'pct_electrical': {'kind': 'continuous zero to one', 'weight': 1.0},\n",
    "    'pct_mechanical': {'kind': 'continuous zero to one', 'weight': 1.0}\n",
    "    # etc.\n",
    "}"
   ]
  },
  {
   "cell_type": "markdown",
   "metadata": {},
   "source": [
    "We need to transform the characteristics to a quantified form.\n",
    "\n",
    "We take the log of continuous zero to infinity variables (positive real numbers) to map them onto real numbers.\n",
    "\n",
    "Discrete variables 'country', 'main_contractor' and 'customer' could become one-hot encoded vectors a.k.a. indicator variables. It might be a nice idea to perform some sophisticated dimensionality reduction on those in future, in order to allow better 'closeness' measures. At the moment, one-hot encoding does not allow better than binary measure of closeness i.e. 'the same' vs. 'not the same'."
   ]
  },
  {
   "cell_type": "markdown",
   "metadata": {},
   "source": [
    "#### Define distance measure\n",
    "Once we have continuous negative-infinity to positive-infinity variables, the closeness of two projects according to that variable is given by the negative exponent of the absolute distance between the variables. This behaves like a dot product, having a range [0, 1]"
   ]
  },
  {
   "cell_type": "code",
   "execution_count": 4,
   "metadata": {},
   "outputs": [
    {
     "name": "stdout",
     "output_type": "stream",
     "text": [
      "0.980392156862746\n"
     ]
    }
   ],
   "source": [
    "def characteristic_nearness(x, y, kind):\n",
    "    \"\"\"\n",
    "    Returns a number between zero and one representing how similar two real numbers are.\n",
    "    Zero means infinitely far away, one means they are the same.\n",
    "    >>> characteristic_nearness(100, 102, \"continuous zero to infinity\")\n",
    "    0.980392156862746\n",
    "    \"\"\"\n",
    "    if kind == 'continuous zero to infinity':\n",
    "        return math.exp(-abs(math.log(x) - math.log(y)))\n",
    "    elif kind == 'continuous zero to one':\n",
    "        return math.exp(-abs(math.tan(x) - math.tan(y)))\n",
    "    elif kind == 'discrete':\n",
    "        return 1 if (x==y) else 0\n",
    "    elif kind == 'minus to plus infinity':\n",
    "        return math.exp(-abs(x - y))\n",
    "    else:\n",
    "        raise NotImplementedError\n",
    "    return \n",
    "\n",
    "x_1 = 100    # Characteristic of project 1\n",
    "x_2 = 102    # Characteristic of project 2\n",
    "print(characteristic_nearness(x_1, x_2, 'continuous zero to infinity'))"
   ]
  },
  {
   "cell_type": "markdown",
   "metadata": {},
   "source": [
    "Then we perform a weighted sum of the closeness measure for all the variables, where the weights are given exogenously (for now, but these could be inferred / optimised / learned from other data)"
   ]
  },
  {
   "cell_type": "code",
   "execution_count": 5,
   "metadata": {},
   "outputs": [],
   "source": [
    "def project_closeness(project_1, project_2, characteristics_schema):\n",
    "    \"\"\" \n",
    "    characteristics_schema as implmented just duplicates the project characteristics\n",
    "    however, having it as an argument allows comparing projects on a subset of available characteristics\n",
    "    \"\"\"\n",
    "    closeness = 0\n",
    "    tot_weight = 0\n",
    "    for ch, values in characteristics_schema.items():\n",
    "        if \"value\" in project_1[ch]:\n",
    "            closeness += values[\"weight\"] * characteristic_nearness(project_1[ch][\"value\"], project_2[ch][\"value\"], values[\"kind\"])\n",
    "        tot_weight += values[\"weight\"]\n",
    "    return (closeness / tot_weight)"
   ]
  },
  {
   "cell_type": "markdown",
   "metadata": {},
   "source": [
    "#### Create mock historical projects and a candidate 'live' project"
   ]
  },
  {
   "cell_type": "code",
   "execution_count": 6,
   "metadata": {},
   "outputs": [],
   "source": [
    "# Use a function to generate them\n",
    "def mock_up_project():\n",
    "    \"\"\"\n",
    "    TODO: improve this to have some patterns rather than purely random\n",
    "    \"\"\"\n",
    "    _successful = random.choice([True, False])\n",
    "    if _successful:\n",
    "        fudge = 1\n",
    "    else:\n",
    "        fudge = 0\n",
    "    budg = random.lognormvariate(ln(1), ln(10))\n",
    "    time = random.lognormvariate(ln(1), ln(10))\n",
    "    return {\n",
    "        'original_budget': {'kind': 'continuous zero to infinity', 'weight': 1.0, 'value': budg},\n",
    "        'original_time': {'kind': 'continuous zero to infinity', 'weight': 1.0, 'value': time},\n",
    "        'country': {'kind': 'discrete', 'weight': 1.0, 'value': 'GB'},\n",
    "        '#risks_in_register': {'kind': 'continuous zero to infinity', 'weight': 1.0, 'value': random.lognormvariate(ln(1+fudge), ln(10))},\n",
    "        'total_risks_amounts': {'kind': 'continuous zero to infinity', 'weight': 1.0, 'value': random.lognormvariate(ln(1), ln(10))},\n",
    "        '#opportunities_in_register': {'kind': 'continuous zero to infinity', 'weight': 1.0, 'value': random.lognormvariate(ln(1+fudge), ln(10))},\n",
    "        'total_opportunities_amounts': {'kind': 'continuous zero to infinity', 'weight': 1.0, 'value': random.lognormvariate(ln(1), ln(10))},\n",
    "        'main_contractor': {'kind': 'discrete', 'weight': 1.0, 'value': random.choice(['XYZ', 'ZYX', 'YZX'])},\n",
    "        'customer': {'kind': 'discrete', 'weight': 1.0, 'value': random.choice(['ABC', 'CBA', 'BCA'])},\n",
    "        'pct_electrical': {'kind': 'continuous zero to one', 'weight': 1.0, 'value': random.uniform(0, 1)},\n",
    "        'pct_mechanical': {'kind': 'continuous zero to one', 'weight': 1.0, 'value': random.uniform(0, 1)},\n",
    "        # etc.\n",
    "        'project_id': uuid.uuid4(),\n",
    "        'cost_overrun_absolute': budg * random.uniform(-0.1*fudge, 2-fudge),\n",
    "        'time_overrun_absolute': time * random.uniform(-0.1*fudge, 2-fudge),\n",
    "        'benefit_deficits': -math.exp(random.uniform(0, 1))\n",
    "    }"
   ]
  },
  {
   "cell_type": "code",
   "execution_count": 7,
   "metadata": {},
   "outputs": [],
   "source": [
    "projects = []\n",
    "for i in range(100):\n",
    "    projects.append(mock_up_project())\n",
    "live_project = mock_up_project()"
   ]
  },
  {
   "cell_type": "markdown",
   "metadata": {},
   "source": [
    "#### Function to rank list of projects according to closeness with candidate project"
   ]
  },
  {
   "cell_type": "code",
   "execution_count": 8,
   "metadata": {},
   "outputs": [],
   "source": [
    "def rank_close_projects(candidate, historic_set, how_many=None, values_only=False):\n",
    "    newlist = []\n",
    "    for proj in projects[:how_many]:\n",
    "        if values_only:\n",
    "            newproj = {}\n",
    "            for k, v in proj.items():\n",
    "                if type(v) is dict:\n",
    "                    newproj[k] = v.get(\"value\", None)\n",
    "                else:\n",
    "                    newproj[k] = v\n",
    "        else:\n",
    "            newproj = proj\n",
    "        newproj[\"closeness\"] = project_closeness(live_project, proj, characteristics_schema)\n",
    "        newlist.append(newproj)\n",
    "    return sorted(newlist, key=lambda x: -x[\"closeness\"])"
   ]
  },
  {
   "cell_type": "markdown",
   "metadata": {},
   "source": [
    "#### Create relevance set of historical projects\n",
    "- All projects are included\n",
    "- More relevant projects have greater weight in sample"
   ]
  },
  {
   "cell_type": "code",
   "execution_count": 9,
   "metadata": {},
   "outputs": [],
   "source": [
    "ranked = rank_close_projects(live_project, projects, values_only=True)\n",
    "# for p in ranked:\n",
    "#     print(p[\"closeness\"])"
   ]
  },
  {
   "cell_type": "code",
   "execution_count": 12,
   "metadata": {},
   "outputs": [
    {
     "data": {
      "text/html": [
       "<div>\n",
       "<style scoped>\n",
       "    .dataframe tbody tr th:only-of-type {\n",
       "        vertical-align: middle;\n",
       "    }\n",
       "\n",
       "    .dataframe tbody tr th {\n",
       "        vertical-align: top;\n",
       "    }\n",
       "\n",
       "    .dataframe thead th {\n",
       "        text-align: right;\n",
       "    }\n",
       "</style>\n",
       "<table border=\"1\" class=\"dataframe\">\n",
       "  <thead>\n",
       "    <tr style=\"text-align: right;\">\n",
       "      <th></th>\n",
       "      <th>#opportunities_in_register</th>\n",
       "      <th>#risks_in_register</th>\n",
       "      <th>benefit_deficits</th>\n",
       "      <th>closeness</th>\n",
       "      <th>cost_overrun_absolute</th>\n",
       "      <th>country</th>\n",
       "      <th>customer</th>\n",
       "      <th>main_contractor</th>\n",
       "      <th>original_budget</th>\n",
       "      <th>original_time</th>\n",
       "      <th>pct_electrical</th>\n",
       "      <th>pct_mechanical</th>\n",
       "      <th>project_id</th>\n",
       "      <th>time_overrun_absolute</th>\n",
       "      <th>total_opportunities_amounts</th>\n",
       "      <th>total_risks_amounts</th>\n",
       "    </tr>\n",
       "  </thead>\n",
       "  <tbody>\n",
       "    <tr>\n",
       "      <th>0</th>\n",
       "      <td>0.464283</td>\n",
       "      <td>8.139406</td>\n",
       "      <td>-1.880157</td>\n",
       "      <td>0.599979</td>\n",
       "      <td>0.336961</td>\n",
       "      <td>GB</td>\n",
       "      <td>BCA</td>\n",
       "      <td>XYZ</td>\n",
       "      <td>0.418868</td>\n",
       "      <td>6.574401</td>\n",
       "      <td>0.253196</td>\n",
       "      <td>0.299040</td>\n",
       "      <td>56191f6e-4448-4ddf-bf83-48dd35528322</td>\n",
       "      <td>12.887219</td>\n",
       "      <td>0.283103</td>\n",
       "      <td>2.586267</td>\n",
       "    </tr>\n",
       "    <tr>\n",
       "      <th>1</th>\n",
       "      <td>3.067311</td>\n",
       "      <td>10.425362</td>\n",
       "      <td>-2.478276</td>\n",
       "      <td>0.582955</td>\n",
       "      <td>1.007860</td>\n",
       "      <td>GB</td>\n",
       "      <td>BCA</td>\n",
       "      <td>XYZ</td>\n",
       "      <td>1.143041</td>\n",
       "      <td>7.802482</td>\n",
       "      <td>0.151233</td>\n",
       "      <td>0.428948</td>\n",
       "      <td>482962e9-c516-47ac-b46d-2e3c9f834764</td>\n",
       "      <td>-0.234664</td>\n",
       "      <td>42.095350</td>\n",
       "      <td>0.077519</td>\n",
       "    </tr>\n",
       "    <tr>\n",
       "      <th>2</th>\n",
       "      <td>3.749437</td>\n",
       "      <td>20.526532</td>\n",
       "      <td>-1.177634</td>\n",
       "      <td>0.580161</td>\n",
       "      <td>40.603175</td>\n",
       "      <td>GB</td>\n",
       "      <td>BCA</td>\n",
       "      <td>XYZ</td>\n",
       "      <td>41.898430</td>\n",
       "      <td>4.004891</td>\n",
       "      <td>0.154190</td>\n",
       "      <td>0.232062</td>\n",
       "      <td>14ab20e9-f31c-4b65-ac5f-782d20609f8c</td>\n",
       "      <td>2.364141</td>\n",
       "      <td>2.677962</td>\n",
       "      <td>0.003981</td>\n",
       "    </tr>\n",
       "  </tbody>\n",
       "</table>\n",
       "</div>"
      ],
      "text/plain": [
       "   #opportunities_in_register  #risks_in_register  benefit_deficits  \\\n",
       "0                    0.464283            8.139406         -1.880157   \n",
       "1                    3.067311           10.425362         -2.478276   \n",
       "2                    3.749437           20.526532         -1.177634   \n",
       "\n",
       "   closeness  cost_overrun_absolute country customer main_contractor  \\\n",
       "0   0.599979               0.336961      GB      BCA             XYZ   \n",
       "1   0.582955               1.007860      GB      BCA             XYZ   \n",
       "2   0.580161              40.603175      GB      BCA             XYZ   \n",
       "\n",
       "   original_budget  original_time  pct_electrical  pct_mechanical  \\\n",
       "0         0.418868       6.574401        0.253196        0.299040   \n",
       "1         1.143041       7.802482        0.151233        0.428948   \n",
       "2        41.898430       4.004891        0.154190        0.232062   \n",
       "\n",
       "                             project_id  time_overrun_absolute  \\\n",
       "0  56191f6e-4448-4ddf-bf83-48dd35528322              12.887219   \n",
       "1  482962e9-c516-47ac-b46d-2e3c9f834764              -0.234664   \n",
       "2  14ab20e9-f31c-4b65-ac5f-782d20609f8c               2.364141   \n",
       "\n",
       "   total_opportunities_amounts  total_risks_amounts  \n",
       "0                     0.283103             2.586267  \n",
       "1                    42.095350             0.077519  \n",
       "2                     2.677962             0.003981  "
      ]
     },
     "execution_count": 12,
     "metadata": {},
     "output_type": "execute_result"
    }
   ],
   "source": [
    "df = pd.DataFrame(ranked)\n",
    "df.head(3)"
   ]
  },
  {
   "cell_type": "code",
   "execution_count": 11,
   "metadata": {},
   "outputs": [],
   "source": [
    "df.to_csv(\"ranked.csv\")"
   ]
  },
  {
   "cell_type": "code",
   "execution_count": null,
   "metadata": {},
   "outputs": [],
   "source": []
  }
 ],
 "metadata": {
  "kernelspec": {
   "display_name": "Python 3",
   "language": "python",
   "name": "python3"
  },
  "language_info": {
   "codemirror_mode": {
    "name": "ipython",
    "version": 3
   },
   "file_extension": ".py",
   "mimetype": "text/x-python",
   "name": "python",
   "nbconvert_exporter": "python",
   "pygments_lexer": "ipython3",
   "version": "3.7.1"
  }
 },
 "nbformat": 4,
 "nbformat_minor": 2
}
